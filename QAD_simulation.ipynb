{
 "cells": [
  {
   "cell_type": "code",
   "execution_count": 7,
   "metadata": {},
   "outputs": [],
   "source": [
    "import netsquid as ns\n",
    "import numpy as np\n",
    "from netsquid.qubits.qubitapi import *\n",
    "from netsquid.qubits.operators import *\n",
    "from netsquid.qubits.qformalism import QFormalism\n",
    "import pandas as pd \n",
    "from quantum_tools.quantum_state_utils import generate_parties, generate_probabilities, generate_uni_sample, form_dm, generate_ghz_dm, update_party_indices\n",
    "from quantum_tools.quantum_operations import generate_anonymous\n",
    "import os"
   ]
  },
  {
   "cell_type": "code",
   "execution_count": 8,
   "metadata": {},
   "outputs": [],
   "source": [
    "num_party = 5\n",
    "sample_probs = 10\n",
    "num_sample = 1\n",
    "\n",
    "p, num_qubit = generate_parties(num_party)\n",
    "\n",
    "probs = generate_probabilities(sample_probs)\n",
    "\n",
    "message_A = generate_uni_sample(num_sample)\n",
    "message_B = generate_uni_sample(num_sample)\n",
    "output_array = np.ndarray(shape=(len(probs), 7), dtype=object)\n",
    "\n",
    "GHZ_3 = generate_ghz_dm(3)\n",
    "GHZ_party = generate_ghz_dm(num_party*2)"
   ]
  },
  {
   "cell_type": "code",
   "execution_count": 9,
   "metadata": {},
   "outputs": [],
   "source": [
    "# Loop over the range of sample probabilities\n",
    "for j in range(sample_probs):\n",
    "    # Generate the anonymous state and calculate fidelities and the reduced density matrix\n",
    "    fidelity_anonymous, fidelity_ghz, dm_matrix = generate_anonymous(probs[j], p, num_party, \"depolarize\", GHZ_party, GHZ_3)\n",
    "    \n",
    "    # Store the current probability value in the output array\n",
    "    output_array[j][0] = probs[j]\n",
    "    \n",
    "    # Store the fidelity of the anonymous state in the output array\n",
    "    output_array[j][3] = fidelity_anonymous\n",
    "    \n",
    "    # Store the fidelity of the GHZ state in the output array\n",
    "    output_array[j][4] = fidelity_ghz\n",
    "    \n",
    "    # Store the reduced density matrix in the output array\n",
    "    output_array[j][6] = dm_matrix\n",
    "    "
   ]
  },
  {
   "cell_type": "code",
   "execution_count": 10,
   "metadata": {},
   "outputs": [],
   "source": [
    "update_party_indices(p)"
   ]
  },
  {
   "cell_type": "code",
   "execution_count": 11,
   "metadata": {},
   "outputs": [],
   "source": [
    "# Loop over the range of sample probabilities\n",
    "for j in range(sample_probs):\n",
    "    # Initialize counters for fidelity calculations\n",
    "    fidelity_counter_1 = 0\n",
    "    fidelity_counter_2 = 0\n",
    "    \n",
    "    # Loop over the number of samples\n",
    "    for k in range(num_sample):\n",
    "        # Set the quantum state formalism to Density Matrix\n",
    "        ns.set_qstate_formalism(QFormalism.DM)\n",
    "        \n",
    "        # Create the required number of qubits\n",
    "        qubits = ns.qubits.create_qubits(num_qubit)\n",
    "        \n",
    "        # Assign the initial state to a subset of qubits based on the density matrix from the output array\n",
    "        assign_qstate([qubits[p['a1']], qubits[p['b0']], qubits[p['b1']], qubits[p['a2']], qubits[p['a3']], qubits[p['b2']]], output_array[j][6])\n",
    "        \n",
    "        # Form the density matrices for message states\n",
    "        psi_1 = form_dm(message_A[k][0], message_A[k][1])\n",
    "        psi_2 = form_dm(message_B[k][0], message_B[k][1])\n",
    "        \n",
    "        # Assign the message states to specific qubits\n",
    "        assign_qstate([qubits[p['A1']], qubits[p['A2']]], psi_1)\n",
    "        assign_qstate([qubits[p['B1']], qubits[p['B2']]], psi_2)\n",
    "\n",
    "        # Perform CNOT operations\n",
    "        operate([qubits[p['A1']], qubits[p['a1']]], CNOT)\n",
    "        operate([qubits[p['B1']], qubits[p['b2']]], CNOT)\n",
    "\n",
    "        # Apply Hadamard gates to a range of qubits\n",
    "        for i in range(p['A1'], p['B2'] + 1):\n",
    "            operate(qubits[i], H)\n",
    "                \n",
    "        # Measure the qubits and get the measurement results\n",
    "        m1, probs1 = ns.qubits.measure(qubits[p['a1']])\n",
    "        m2, probs2 = ns.qubits.measure(qubits[p['b2']])\n",
    "        m3, probs3 = ns.qubits.measure(qubits[p['A1']])\n",
    "        m4, probs4 = ns.qubits.measure(qubits[p['A2']])\n",
    "        m5, probs5 = ns.qubits.measure(qubits[p['B1']])\n",
    "        m6, probs6 = ns.qubits.measure(qubits[p['B2']])\n",
    "\n",
    "        # Apply conditional X operations based on measurement results\n",
    "        if m1 == 1:\n",
    "            operate(qubits[p['b0']], X)\n",
    "            operate(qubits[p['b1']], X)\n",
    "\n",
    "        if m2 == 1:\n",
    "            operate(qubits[p['a2']], X)\n",
    "            operate(qubits[p['a3']], X)\n",
    "\n",
    "        # Apply conditional Z operations based on the parity of measurement results\n",
    "        if (m3 + m4) % 2 == 1:\n",
    "            operate(qubits[p['b0']], Z)\n",
    "\n",
    "        if (m5 + m6) % 2 == 1:\n",
    "            operate(qubits[p['a2']], Z)\n",
    "\n",
    "        # Calculate the reduced density matrices for the anonymous entangled states\n",
    "        output_state_1 = reduced_dm([qubits[p['b0']], qubits[p['b1']]])\n",
    "        output_state_2 = reduced_dm([qubits[p['a2']], qubits[p['a3']]])\n",
    "        \n",
    "        # Calculate the fidelity of the reduced states with the original message states\n",
    "        fidelity_1 = ns.qubits.dmutil.dm_fidelity(output_state_1, psi_1, squared=False)\n",
    "        fidelity_2 = ns.qubits.dmutil.dm_fidelity(output_state_2, psi_2, squared=False)\n",
    "        \n",
    "        # Accumulate the fidelities\n",
    "        fidelity_counter_1 += fidelity_1\n",
    "        fidelity_counter_2 += fidelity_2\n",
    "        \n",
    "    # Calculate the average fidelities and store them in the output array\n",
    "    output_array[j][1] = fidelity_counter_1 / num_sample\n",
    "    output_array[j][2] = fidelity_counter_2 / num_sample\n"
   ]
  },
  {
   "cell_type": "code",
   "execution_count": 12,
   "metadata": {},
   "outputs": [
    {
     "name": "stdout",
     "output_type": "stream",
     "text": [
      "  Noise_Param Fidelity_1 Fidelity_2 Fidelity_Anonymous Fidelity_GHZ  \\\n",
      "0         0.0        1.0        1.0                1.0          1.0   \n",
      "1    0.111111   0.836234   0.845384           0.575269     0.436288   \n",
      "2    0.222222   0.740264   0.751472           0.392358      0.19448   \n",
      "3    0.333333   0.675571   0.685584           0.300337     0.089424   \n",
      "4    0.444444   0.624968   0.632727           0.242141     0.041907   \n",
      "5    0.555556   0.582694   0.588068           0.199224     0.019457   \n",
      "6    0.666667   0.548013   0.551236           0.166675     0.008688   \n",
      "7    0.777778   0.521884   0.523389           0.143519     0.003672   \n",
      "8    0.888889   0.505562   0.505949            0.12963     0.001551   \n",
      "9         1.0   0.500003        0.5              0.125     0.000977   \n",
      "\n",
      "  Fidelity_Analytic                                     data_anonymous  \n",
      "0              None  [[(0.25+0j), 0j, 0j, 0j, 0j, 0j, 0j, (0.25+0j)...  \n",
      "1              None  [[(0.1774905692729767+0j), 0j, 0j, 0j, 0j, 0j,...  \n",
      "2              None  [[(0.12379972565157747+0j), 0j, 0j, 0j, 0j, 0j...  \n",
      "3              None  [[(0.08506944444444446+0j), 0j, 0j, 0j, 0j, 0j...  \n",
      "4              None  [[(0.05795610425240056+0j), 0j, 0j, 0j, 0j, 0j...  \n",
      "5              None  [[(0.03963048696844994+0j), 0j, 0j, 0j, 0j, 0j...  \n",
      "6              None  [[(0.027777777777777766+0j), 0j, 0j, 0j, 0j, 0...  \n",
      "7              None  [[(0.020597565157750342+0j), 0j, 0j, 0j, 0j, 0...  \n",
      "8              None  [[(0.01680384087791495+0j), 0j, 0j, 0j, 0j, 0j...  \n",
      "9              None  [[(0.015625+0j), 0j, 0j, 0j, 0j, 0j, 0j, 0j, 0...  \n"
     ]
    },
    {
     "data": {
      "image/png": "[encoded data removed]",
      "text/plain": [
       "<Figure size 640x480 with 1 Axes>"
      ]
     },
     "metadata": {},
     "output_type": "display_data"
    }
   ],
   "source": [
    "# Create a DataFrame from the output array\n",
    "fid_data = pd.DataFrame(data=output_array, columns=['Noise_Param', 'Fidelity_1', 'Fidelity_2', 'Fidelity_Anonymous', 'Fidelity_GHZ', 'Fidelity_Analytic', 'data_anonymous'])\n",
    "\n",
    "# Print the DataFrame\n",
    "print(fid_data)\n",
    "\n",
    "# Plot Fidelity_2 against Noise_Param\n",
    "fid_data.plot(x='Noise_Param', y='Fidelity_2', title='Fidelity_2 vs Noise_Param')\n",
    "\n",
    "result_folder = 'results'\n",
    "file_path = os.path.join(result_folder, 'QAD_Fidelity_depolarize_n3_s10000_v1.csv')\n",
    "\n",
    "# fid_data.to_csv(file_path)"
   ]
  },
  {
   "cell_type": "code",
   "execution_count": null,
   "metadata": {},
   "outputs": [],
   "source": []
  },
  {
   "cell_type": "code",
   "execution_count": null,
   "metadata": {},
   "outputs": [],
   "source": []
  }
 ],
 "metadata": {
  "kernelspec": {
   "display_name": "Python 3",
   "language": "python",
   "name": "python3"
  },
  "language_info": {
   "codemirror_mode": {
    "name": "ipython",
    "version": 3
   },
   "file_extension": ".py",
   "mimetype": "text/x-python",
   "name": "python",
   "nbconvert_exporter": "python",
   "pygments_lexer": "ipython3",
   "version": "3.10.12"
  }
 },
 "nbformat": 4,
 "nbformat_minor": 2
}
