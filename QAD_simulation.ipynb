{
 "cells": [
  {
   "cell_type": "code",
   "execution_count": 1,
   "metadata": {},
   "outputs": [],
   "source": [
    "import netsquid as ns\n",
    "import numpy as np\n",
    "from netsquid.qubits.qubitapi import *\n",
    "from netsquid.qubits.operators import *\n",
    "from netsquid.qubits.qformalism import QFormalism\n",
    "import pandas as pd \n",
    "from quantum_tools.quantum_state_utils import generate_parties, generate_probabilities, generate_uni_sample, form_dm, generate_ghz_dm, update_party_indices\n",
    "from quantum_tools.quantum_operations import generate_anonymous\n",
    "import os"
   ]
  },
  {
   "cell_type": "code",
   "execution_count": 2,
   "metadata": {},
   "outputs": [],
   "source": [
    "num_party = 5\n",
    "sample_probs = 10\n",
    "num_sample = 1\n",
    "\n",
    "p, num_qubit = generate_parties(num_party)\n",
    "\n",
    "probs = generate_probabilities(sample_probs)\n",
    "\n",
    "message_A = generate_uni_sample(num_sample)\n",
    "message_B = generate_uni_sample(num_sample)\n",
    "output_array = np.ndarray(shape=(len(probs), 7), dtype=object)\n",
    "\n",
    "GHZ_3 = generate_ghz_dm(3)\n",
    "GHZ_party = generate_ghz_dm(num_party*2)"
   ]
  },
  {
   "cell_type": "code",
   "execution_count": 3,
   "metadata": {},
   "outputs": [],
   "source": [
    "# Loop over the range of sample probabilities\n",
    "for j in range(sample_probs):\n",
    "    # Generate the anonymous state and calculate fidelities and the reduced density matrix\n",
    "    fidelity_anonymous, fidelity_ghz, dm_matrix = generate_anonymous(probs[j], p, num_party, \"depolarize\", GHZ_party, GHZ_3)\n",
    "    \n",
    "    # Store the current probability value in the output array\n",
    "    output_array[j][0] = probs[j]\n",
    "    \n",
    "    # Store the fidelity of the anonymous state in the output array\n",
    "    output_array[j][3] = fidelity_anonymous\n",
    "    \n",
    "    # Store the fidelity of the GHZ state in the output array\n",
    "    output_array[j][4] = fidelity_ghz\n",
    "    \n",
    "    # Store the reduced density matrix in the output array\n",
    "    output_array[j][6] = dm_matrix\n",
    "    "
   ]
  },
  {
   "cell_type": "code",
   "execution_count": 4,
   "metadata": {},
   "outputs": [],
   "source": [
    "update_party_indices(p)"
   ]
  },
  {
   "cell_type": "code",
   "execution_count": 5,
   "metadata": {},
   "outputs": [],
   "source": [
    "# Loop over the range of sample probabilities\n",
    "for j in range(sample_probs):\n",
    "    # Initialize counters for fidelity calculations\n",
    "    fidelity_counter_1 = 0\n",
    "    fidelity_counter_2 = 0\n",
    "    \n",
    "    # Loop over the number of samples\n",
    "    for k in range(num_sample):\n",
    "        # Set the quantum state formalism to Density Matrix\n",
    "        ns.set_qstate_formalism(QFormalism.DM)\n",
    "        \n",
    "        # Create the required number of qubits\n",
    "        qubits = ns.qubits.create_qubits(num_qubit)\n",
    "        \n",
    "        # Assign the initial state to a subset of qubits based on the density matrix from the output array\n",
    "        assign_qstate([qubits[p['a1']], qubits[p['b0']], qubits[p['b1']], qubits[p['a2']], qubits[p['a3']], qubits[p['b2']]], output_array[j][6])\n",
    "        \n",
    "        # Form the density matrices for message states\n",
    "        psi_1 = form_dm(message_A[k][0], message_A[k][1])\n",
    "        psi_2 = form_dm(message_B[k][0], message_B[k][1])\n",
    "        \n",
    "        # Assign the message states to specific qubits\n",
    "        assign_qstate([qubits[p['A1']], qubits[p['A2']]], psi_1)\n",
    "        assign_qstate([qubits[p['B1']], qubits[p['B2']]], psi_2)\n",
    "\n",
    "        # Perform CNOT operations\n",
    "        operate([qubits[p['A1']], qubits[p['a1']]], CNOT)\n",
    "        operate([qubits[p['B1']], qubits[p['b2']]], CNOT)\n",
    "\n",
    "        # Apply Hadamard gates to a range of qubits\n",
    "        for i in range(p['A1'], p['B2'] + 1):\n",
    "            operate(qubits[i], H)\n",
    "                \n",
    "        # Measure the qubits and get the measurement results\n",
    "        m1, probs1 = ns.qubits.measure(qubits[p['a1']])\n",
    "        m2, probs2 = ns.qubits.measure(qubits[p['b2']])\n",
    "        m3, probs3 = ns.qubits.measure(qubits[p['A1']])\n",
    "        m4, probs4 = ns.qubits.measure(qubits[p['A2']])\n",
    "        m5, probs5 = ns.qubits.measure(qubits[p['B1']])\n",
    "        m6, probs6 = ns.qubits.measure(qubits[p['B2']])\n",
    "\n",
    "        # Apply conditional X operations based on measurement results\n",
    "        if m1 == 1:\n",
    "            operate(qubits[p['b0']], X)\n",
    "            operate(qubits[p['b1']], X)\n",
    "\n",
    "        if m2 == 1:\n",
    "            operate(qubits[p['a2']], X)\n",
    "            operate(qubits[p['a3']], X)\n",
    "\n",
    "        # Apply conditional Z operations based on the parity of measurement results\n",
    "        if (m3 + m4) % 2 == 1:\n",
    "            operate(qubits[p['b0']], Z)\n",
    "\n",
    "        if (m5 + m6) % 2 == 1:\n",
    "            operate(qubits[p['a2']], Z)\n",
    "\n",
    "        # Calculate the reduced density matrices for the anonymous entangled states\n",
    "        output_state_1 = reduced_dm([qubits[p['b0']], qubits[p['b1']]])\n",
    "        output_state_2 = reduced_dm([qubits[p['a2']], qubits[p['a3']]])\n",
    "        \n",
    "        # Calculate the fidelity of the reduced states with the original message states\n",
    "        fidelity_1 = ns.qubits.dmutil.dm_fidelity(output_state_1, psi_1, squared=False)\n",
    "        fidelity_2 = ns.qubits.dmutil.dm_fidelity(output_state_2, psi_2, squared=False)\n",
    "        \n",
    "        # Accumulate the fidelities\n",
    "        fidelity_counter_1 += fidelity_1\n",
    "        fidelity_counter_2 += fidelity_2\n",
    "        \n",
    "    # Calculate the average fidelities and store them in the output array\n",
    "    output_array[j][1] = fidelity_counter_1 / num_sample\n",
    "    output_array[j][2] = fidelity_counter_2 / num_sample\n"
   ]
  },
  {
   "cell_type": "code",
   "execution_count": 7,
   "metadata": {},
   "outputs": [
    {
     "name": "stdout",
     "output_type": "stream",
     "text": [
      "  Noise_Param Fidelity_1 Fidelity_2 Fidelity_Anonymous Fidelity_GHZ  \\\n",
      "0         0.0        1.0        1.0                1.0          1.0   \n",
      "1    0.111111   0.780402   0.775568           0.758465     0.660521   \n",
      "2    0.222222   0.670758   0.664637           0.626385     0.440998   \n",
      "3    0.333333   0.613552   0.608098           0.548031     0.299038   \n",
      "4    0.444444    0.57735   0.573203           0.492078     0.204712   \n",
      "5    0.555556   0.550101   0.547297           0.446346     0.139489   \n",
      "6    0.666667   0.528696   0.527055           0.408259     0.093208   \n",
      "7    0.777778   0.512949   0.512198           0.378839     0.060596   \n",
      "8    0.888889   0.503268   0.503078           0.360041     0.039379   \n",
      "9         1.0        0.5   0.500001           0.353553      0.03125   \n",
      "\n",
      "  Fidelity_Analytic                                     data_anonymous  \n",
      "0              None  [[(0.25+0j), 0j, 0j, 0j, 0j, 0j, 0j, (0.25+0j)...  \n",
      "1              None  [[(0.1774905692729767+0j), 0j, 0j, 0j, 0j, 0j,...  \n",
      "2              None  [[(0.12379972565157747+0j), 0j, 0j, 0j, 0j, 0j...  \n",
      "3              None  [[(0.08506944444444446+0j), 0j, 0j, 0j, 0j, 0j...  \n",
      "4              None  [[(0.05795610425240056+0j), 0j, 0j, 0j, 0j, 0j...  \n",
      "5              None  [[(0.03963048696844994+0j), 0j, 0j, 0j, 0j, 0j...  \n",
      "6              None  [[(0.027777777777777766+0j), 0j, 0j, 0j, 0j, 0...  \n",
      "7              None  [[(0.020597565157750342+0j), 0j, 0j, 0j, 0j, 0...  \n",
      "8              None  [[(0.01680384087791495+0j), 0j, 0j, 0j, 0j, 0j...  \n",
      "9              None  [[(0.015625+0j), 0j, 0j, 0j, 0j, 0j, 0j, 0j, 0...  \n"
     ]
    },
    {
     "data": {
      "image/png": "[encoded data removed]",
      "text/plain": [
       "<Figure size 640x480 with 1 Axes>"
      ]
     },
     "metadata": {},
     "output_type": "display_data"
    }
   ],
   "source": [
    "# Create a DataFrame from the output array\n",
    "fid_data = pd.DataFrame(data=output_array, columns=['Noise_Param', 'Fidelity_1', 'Fidelity_2', 'Fidelity_Anonymous', 'Fidelity_GHZ', 'Fidelity_Analytic', 'data_anonymous'])\n",
    "\n",
    "# Print the DataFrame\n",
    "print(fid_data)\n",
    "\n",
    "# Plot Fidelity_2 against Noise_Param\n",
    "fid_data.plot(x='Noise_Param', y='Fidelity_2', title='Fidelity_2 vs Noise_Param')\n",
    "\n",
    "result_folder = 'results'\n",
    "file_path = os.path.join(result_folder, 'QAD_Fidelity_depolarize_n3_s10000_v1.csv')\n",
    "\n",
    "# fid_data.to_csv(file_path)"
   ]
  },
  {
   "cell_type": "code",
   "execution_count": null,
   "metadata": {},
   "outputs": [],
   "source": []
  },
  {
   "cell_type": "code",
   "execution_count": null,
   "metadata": {},
   "outputs": [],
   "source": []
  }
 ],
 "metadata": {
  "kernelspec": {
   "display_name": "Python 3",
   "language": "python",
   "name": "python3"
  },
  "language_info": {
   "codemirror_mode": {
    "name": "ipython",
    "version": 3
   },
   "file_extension": ".py",
   "mimetype": "text/x-python",
   "name": "python",
   "nbconvert_exporter": "python",
   "pygments_lexer": "ipython3",
   "version": "3.10.12"
  }
 },
 "nbformat": 4,
 "nbformat_minor": 2
}
