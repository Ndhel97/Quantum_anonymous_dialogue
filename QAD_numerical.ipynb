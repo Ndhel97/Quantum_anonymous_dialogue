{
 "cells": [
  {
   "cell_type": "code",
   "execution_count": 1,
   "metadata": {},
   "outputs": [],
   "source": [
    "from sympy import symbols\n",
    "import numpy as np\n",
    "from quantum_tools.qstate_numerical_tools import create_ghz_state, compute_noisy_density_matrix, fidelity_anonymous\n",
    "import pandas as pd"
   ]
  },
  {
   "cell_type": "code",
   "execution_count": 2,
   "metadata": {},
   "outputs": [],
   "source": [
    "n = 10 # number of qubits\n",
    "n_anon = 3 # number of qubits that want to be anonymous\n",
    "q = symbols('q') # noise parameter\n",
    "ket_ghz, bra_ghz = create_ghz_state(n)\n",
    "\n",
    "# Number of sample probabilities to generate\n",
    "sample_probs = 10\n",
    "\n",
    "# Generate a list of probabilities linearly spaced between 0 and 1\n",
    "probs = np.linspace(0, 1, num=sample_probs)\n",
    "\n",
    "# Initialize an output array to store results\n",
    "# The array has shape (number of probabilities, 3) to store 3 values for each probability\n",
    "output_array = np.ndarray(shape=(len(probs), 3))"
   ]
  },
  {
   "cell_type": "code",
   "execution_count": 3,
   "metadata": {},
   "outputs": [
    {
     "data": {
      "text/latex": [
       "$\\displaystyle 1.0 \\sqrt{2} \\cdot \\left(0.25 \\sqrt{2} \\left(1 - q\\right)^{10} + 0.5 \\sqrt{2} \\left(\\frac{q^{10}}{2048} + \\frac{\\left(1 - \\frac{q}{2}\\right)^{10}}{2}\\right)\\right)$"
      ],
      "text/plain": [
       "1.0*sqrt(2)*(0.25*sqrt(2)*(1 - q)**10 + 0.5*sqrt(2)*(q**10/2048 + (1 - q/2)**10/2))"
      ]
     },
     "execution_count": 3,
     "metadata": {},
     "output_type": "execute_result"
    }
   ],
   "source": [
    "# Compute the density matrix of the noisy GHZ state\n",
    "result_matrix = compute_noisy_density_matrix(n, q, \"depolarizing\")\n",
    "\n",
    "# Calculate the fidelity formula of the GHZ state\n",
    "fidelity_ghz = bra_ghz*result_matrix*ket_ghz\n",
    "\n",
    "fidelity_ghz[0]"
   ]
  },
  {
   "cell_type": "code",
   "execution_count": 4,
   "metadata": {},
   "outputs": [
    {
     "data": {
      "text/latex": [
       "$\\displaystyle \\frac{q^{10}}{2048} + \\frac{7 q^{9} \\cdot \\left(1 - \\frac{q}{2}\\right)}{1024} + \\frac{21 q^{8} \\left(1 - \\frac{q}{2}\\right)^{2}}{512} + \\frac{9 q^{7} \\left(1 - \\frac{q}{2}\\right)^{3}}{64} + \\frac{21 q^{6} \\left(1 - \\frac{q}{2}\\right)^{4}}{64} + \\frac{21 q^{5} \\left(1 - \\frac{q}{2}\\right)^{5}}{32} + \\frac{21 q^{4} \\left(1 - \\frac{q}{2}\\right)^{6}}{16} + \\frac{9 q^{3} \\left(1 - \\frac{q}{2}\\right)^{7}}{4} + \\frac{21 q^{2} \\left(1 - \\frac{q}{2}\\right)^{8}}{8} + \\frac{7 q \\left(1 - \\frac{q}{2}\\right)^{9}}{4} + \\frac{\\left(1 - q\\right)^{10}}{2} + \\frac{\\left(1 - \\frac{q}{2}\\right)^{10}}{2}$"
      ],
      "text/plain": [
       "q**10/2048 + 7*q**9*(1 - q/2)/1024 + 21*q**8*(1 - q/2)**2/512 + 9*q**7*(1 - q/2)**3/64 + 21*q**6*(1 - q/2)**4/64 + 21*q**5*(1 - q/2)**5/32 + 21*q**4*(1 - q/2)**6/16 + 9*q**3*(1 - q/2)**7/4 + 21*q**2*(1 - q/2)**8/8 + 7*q*(1 - q/2)**9/4 + (1 - q)**10/2 + (1 - q/2)**10/2"
      ]
     },
     "execution_count": 4,
     "metadata": {},
     "output_type": "execute_result"
    }
   ],
   "source": [
    "# Calculate the fidelity formula of the anonymous GHZ state\n",
    "fidelity_anonymous = fidelity_anonymous(result_matrix,n, n_anon)\n",
    "\n",
    "fidelity_anonymous"
   ]
  },
  {
   "cell_type": "code",
   "execution_count": 5,
   "metadata": {},
   "outputs": [],
   "source": [
    "for i in range(sample_probs):\n",
    "    anonymous_fidelity = fidelity_anonymous.subs(q, probs[i])\n",
    "    ghz_fidelity = fidelity_ghz.subs(q, probs[i])[0]\n",
    "    output_array[i][0] = probs[i]\n",
    "    output_array[i][1] = ghz_fidelity\n",
    "    output_array[i][2] = anonymous_fidelity"
   ]
  },
  {
   "cell_type": "code",
   "execution_count": 6,
   "metadata": {},
   "outputs": [
    {
     "name": "stdout",
     "output_type": "stream",
     "text": [
      "   Noise_Param  Fidelity_GHZ  Fidelity_Anonymous\n",
      "0     0.000000      1.000000            1.000000\n",
      "1     0.111111      0.436288            0.575269\n",
      "2     0.222222      0.194480            0.392358\n",
      "3     0.333333      0.089424            0.300337\n",
      "4     0.444444      0.041907            0.242141\n",
      "5     0.555556      0.019457            0.199224\n",
      "6     0.666667      0.008688            0.166675\n",
      "7     0.777778      0.003672            0.143519\n",
      "8     0.888889      0.001551            0.129630\n",
      "9     1.000000      0.000977            0.125000\n"
     ]
    }
   ],
   "source": [
    "fid_data = pd.DataFrame(data = output_array,columns = ['Noise_Param', 'Fidelity_GHZ', 'Fidelity_Anonymous'])\n",
    "print(fid_data)"
   ]
  },
  {
   "cell_type": "code",
   "execution_count": null,
   "metadata": {},
   "outputs": [],
   "source": []
  }
 ],
 "metadata": {
  "kernelspec": {
   "display_name": "Python 3",
   "language": "python",
   "name": "python3"
  },
  "language_info": {
   "codemirror_mode": {
    "name": "ipython",
    "version": 3
   },
   "file_extension": ".py",
   "mimetype": "text/x-python",
   "name": "python",
   "nbconvert_exporter": "python",
   "pygments_lexer": "ipython3",
   "version": "3.10.12"
  }
 },
 "nbformat": 4,
 "nbformat_minor": 2
}
